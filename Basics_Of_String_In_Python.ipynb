{
 "cells": [
  {
   "cell_type": "code",
   "execution_count": 1,
   "metadata": {},
   "outputs": [
    {
     "name": "stdout",
     "output_type": "stream",
     "text": [
      "It is an string!\n"
     ]
    }
   ],
   "source": [
    "#Strings are sequences of character data. The string type in Python is called str.\n",
    "\n",
    "#Let's understand by an example\n",
    "\n",
    "# We can envelope string by single quotes('') or by double quotes (\"\")\n",
    "\n",
    "print('It is an string!')"
   ]
  },
  {
   "cell_type": "code",
   "execution_count": 2,
   "metadata": {},
   "outputs": [
    {
     "data": {
      "text/plain": [
       "str"
      ]
     },
     "execution_count": 2,
     "metadata": {},
     "output_type": "execute_result"
    }
   ],
   "source": [
    "#Let's check the data type of string\n",
    "type('It is an string!')"
   ]
  },
  {
   "cell_type": "code",
   "execution_count": 3,
   "metadata": {},
   "outputs": [],
   "source": [
    "#As we can see in the above example the data type of string is str"
   ]
  },
  {
   "cell_type": "code",
   "execution_count": 4,
   "metadata": {},
   "outputs": [
    {
     "name": "stdout",
     "output_type": "stream",
     "text": [
      "It is an string!\n"
     ]
    }
   ],
   "source": [
    "#Let's assign the string to a variable\n",
    "\n",
    "string ='It is an string!'\n",
    "print(string)"
   ]
  },
  {
   "cell_type": "code",
   "execution_count": 5,
   "metadata": {},
   "outputs": [
    {
     "name": "stdout",
     "output_type": "stream",
     "text": [
      "\n"
     ]
    },
    {
     "data": {
      "text/plain": [
       "str"
      ]
     },
     "execution_count": 5,
     "metadata": {},
     "output_type": "execute_result"
    }
   ],
   "source": [
    "#A string can also be empty\n",
    "#Let's understand by the example\n",
    "\n",
    "string =''\n",
    "print(string)\n",
    "type(string)"
   ]
  },
  {
   "cell_type": "code",
   "execution_count": 6,
   "metadata": {},
   "outputs": [],
   "source": [
    "# As we can in above example, the string don't have any value but still it's type is str "
   ]
  },
  {
   "cell_type": "code",
   "execution_count": 7,
   "metadata": {},
   "outputs": [
    {
     "ename": "SyntaxError",
     "evalue": "invalid syntax (<ipython-input-7-7fdf19dbb84b>, line 4)",
     "output_type": "error",
     "traceback": [
      "\u001b[1;36m  File \u001b[1;32m\"<ipython-input-7-7fdf19dbb84b>\"\u001b[1;36m, line \u001b[1;32m4\u001b[0m\n\u001b[1;33m    string ='It's an example\u001b[0m\n\u001b[1;37m                ^\u001b[0m\n\u001b[1;31mSyntaxError\u001b[0m\u001b[1;31m:\u001b[0m invalid syntax\n"
     ]
    }
   ],
   "source": [
    "#When any string contains itself any single or double quotes in that case we should be cautious to print it or will get error\n",
    "\n",
    "#Let's have an example\n",
    "string ='It's an example'"
   ]
  },
  {
   "cell_type": "code",
   "execution_count": 8,
   "metadata": {},
   "outputs": [],
   "source": [
    "#As we can see in the above example we got an error \"SyntaxError: invalid syntax\" because we envelope string by single quotes\n",
    "#and the string contains itself another single quotes\n",
    "\n",
    "#So to avoid these kind of errors we have two solutions"
   ]
  },
  {
   "cell_type": "code",
   "execution_count": 9,
   "metadata": {},
   "outputs": [
    {
     "name": "stdout",
     "output_type": "stream",
     "text": [
      "It's an example\n"
     ]
    }
   ],
   "source": [
    "#1. Envelope the string by doble quotes(\"\") if it has itself single quotes or vice-versa\n",
    "\n",
    "#For example\n",
    "string =\"It's an example\"\n",
    "print(string)"
   ]
  },
  {
   "cell_type": "code",
   "execution_count": 10,
   "metadata": {},
   "outputs": [
    {
     "name": "stdout",
     "output_type": "stream",
     "text": [
      "It's an example\n"
     ]
    }
   ],
   "source": [
    "#2. We can add back slash(\\) where we have single quote or double quote \n",
    "\n",
    "string = 'It\\'s an example'\n",
    "print(string)"
   ]
  },
  {
   "cell_type": "code",
   "execution_count": 11,
   "metadata": {},
   "outputs": [
    {
     "name": "stdout",
     "output_type": "stream",
     "text": [
      "This string contains a single quote (') character.\n",
      "This string contains a double quote (\") character.\n"
     ]
    }
   ],
   "source": [
    "print(\"This string contains a single quote (') character.\")\n",
    "\n",
    "\n",
    "print('This string contains a double quote (\") character.')"
   ]
  },
  {
   "cell_type": "code",
   "execution_count": 14,
   "metadata": {},
   "outputs": [
    {
     "name": "stdout",
     "output_type": "stream",
     "text": [
      "It's line firstIt's line twoIt's line three\n"
     ]
    }
   ],
   "source": [
    "#To break up a string over more than one line, include a backslash before each newline, and the newlines will be ignored\n",
    "\n",
    "multi_line_string = \"It's line first\\\n",
    "It's line two\\\n",
    "It's line three\"\n",
    "print(multi_line_string)"
   ]
  },
  {
   "cell_type": "code",
   "execution_count": 16,
   "metadata": {},
   "outputs": [],
   "source": [
    "#As you can see in the above example we used back slash to write one string in multiple line but in actuals it is one which we \n",
    "# have broken into three lines that's why there is no space between the lines after each break up line"
   ]
  },
  {
   "cell_type": "code",
   "execution_count": 17,
   "metadata": {},
   "outputs": [
    {
     "name": "stdout",
     "output_type": "stream",
     "text": [
      "First String\\second string\n"
     ]
    }
   ],
   "source": [
    "#When we want to put a back slash between two strings then we have to use double backslash\n",
    "print(\"First String\\\\second string\")"
   ]
  },
  {
   "cell_type": "code",
   "execution_count": 18,
   "metadata": {},
   "outputs": [
    {
     "name": "stdout",
     "output_type": "stream",
     "text": [
      "First String\tsecond strin\n"
     ]
    }
   ],
   "source": [
    "#When you want to use tab character between an string\n",
    "print(\"First String\\tsecond strin\")"
   ]
  },
  {
   "cell_type": "code",
   "execution_count": 19,
   "metadata": {},
   "outputs": [
    {
     "name": "stdout",
     "output_type": "stream",
     "text": [
      "First String\\tsecond strin\n"
     ]
    }
   ],
   "source": [
    "#As you can see in the above example when any string contains \\t character then it put tab space between the string where it is \n",
    "#available\n",
    "\n",
    "#What if you want to print \\t into your string??\n",
    "#For those kind of cases we have to add r before the string so that python can read it as raw \n",
    "raw_string = r\"First String\\tsecond strin\"\n",
    "print(raw_string)"
   ]
  },
  {
   "cell_type": "code",
   "execution_count": 23,
   "metadata": {},
   "outputs": [
    {
     "name": "stdout",
     "output_type": "stream",
     "text": [
      "It's first stringIt's first string\n"
     ]
    }
   ],
   "source": [
    "#Adding two strings into one\n",
    "string1 = \"It's first string\"\n",
    "string2 = \"It's first string\"\n",
    "\n",
    "#To add two string we can use + operator\n",
    "joined_string = string1+string2\n",
    "print(joined_string)"
   ]
  },
  {
   "cell_type": "code",
   "execution_count": 24,
   "metadata": {},
   "outputs": [
    {
     "name": "stdout",
     "output_type": "stream",
     "text": [
      "It's first string It's first string\n"
     ]
    }
   ],
   "source": [
    "#When we want to put an space while joining two or more than two strings we can do like below\n",
    "\n",
    "string1 = \"It's first string\"\n",
    "string2 = \"It's first string\"\n",
    "\n",
    "joined_string = string1+' '+string2\n",
    "print(joined_string)"
   ]
  },
  {
   "cell_type": "code",
   "execution_count": 26,
   "metadata": {},
   "outputs": [
    {
     "name": "stdout",
     "output_type": "stream",
     "text": [
      "It's first string\n",
      "It's first string\n"
     ]
    }
   ],
   "source": [
    "#When we want to each string in new line then we can do like below\n",
    "string1 = \"It's first string\"\n",
    "string2 = \"It's first string\"\n",
    "\n",
    "joined_string = string1+'\\n'+string2\n",
    "print(joined_string)"
   ]
  },
  {
   "cell_type": "code",
   "execution_count": 29,
   "metadata": {},
   "outputs": [
    {
     "name": "stdout",
     "output_type": "stream",
     "text": [
      "XYZXYZXYZXYZ\n"
     ]
    }
   ],
   "source": [
    "# When we want to print one string multiple times then we can do like this\n",
    "\n",
    "string =\"XYZ\"\n",
    "print(string*4)"
   ]
  },
  {
   "cell_type": "code",
   "execution_count": 30,
   "metadata": {},
   "outputs": [
    {
     "name": "stdout",
     "output_type": "stream",
     "text": [
      "34\n"
     ]
    }
   ],
   "source": [
    "#How to check the length of an string??\n",
    "\n",
    "string =\"Let's check the lenth of an string\"\n",
    "length_s = len(string)\n",
    "print(length_s)"
   ]
  },
  {
   "cell_type": "code",
   "execution_count": 32,
   "metadata": {},
   "outputs": [
    {
     "ename": "TypeError",
     "evalue": "Can't convert 'int' object to str implicitly",
     "output_type": "error",
     "traceback": [
      "\u001b[1;31m---------------------------------------------------------------------------\u001b[0m",
      "\u001b[1;31mTypeError\u001b[0m                                 Traceback (most recent call last)",
      "\u001b[1;32m<ipython-input-32-909c75644f0f>\u001b[0m in \u001b[0;36m<module>\u001b[1;34m()\u001b[0m\n\u001b[0;32m      1\u001b[0m \u001b[1;31m#We will get an error while adding any integer or numeric value with string\u001b[0m\u001b[1;33m\u001b[0m\u001b[1;33m\u001b[0m\u001b[0m\n\u001b[0;32m      2\u001b[0m \u001b[0mstring\u001b[0m \u001b[1;33m=\u001b[0m\u001b[1;34m\"Add some numeric value to me\"\u001b[0m\u001b[1;33m\u001b[0m\u001b[0m\n\u001b[1;32m----> 3\u001b[1;33m \u001b[0mstring_with_value\u001b[0m\u001b[1;33m=\u001b[0m \u001b[0mstring\u001b[0m\u001b[1;33m+\u001b[0m\u001b[1;36m10\u001b[0m\u001b[1;33m\u001b[0m\u001b[0m\n\u001b[0m\u001b[0;32m      4\u001b[0m \u001b[0mprint\u001b[0m\u001b[1;33m(\u001b[0m\u001b[0mstring_with_value\u001b[0m\u001b[1;33m)\u001b[0m\u001b[1;33m\u001b[0m\u001b[0m\n",
      "\u001b[1;31mTypeError\u001b[0m: Can't convert 'int' object to str implicitly"
     ]
    }
   ],
   "source": [
    "#We will get an error while adding any integer or numeric value with string\n",
    "string =\"Add some numeric value to me\"\n",
    "string_with_value= string+10\n",
    "print(string_with_value)"
   ]
  },
  {
   "cell_type": "code",
   "execution_count": 33,
   "metadata": {},
   "outputs": [
    {
     "name": "stdout",
     "output_type": "stream",
     "text": [
      "Add some numeric value to me10\n"
     ]
    }
   ],
   "source": [
    "#As we can see we can not add any numeric value to the string \n",
    "#To achieve this first we have to convert the numeric value to string \n",
    "string =\"Add some numeric value to me\"\n",
    "string_with_value= string+str(10)\n",
    "print(string_with_value)"
   ]
  },
  {
   "cell_type": "code",
   "execution_count": 37,
   "metadata": {},
   "outputs": [
    {
     "name": "stdout",
     "output_type": "stream",
     "text": [
      "Add some numeric value to me 12\n"
     ]
    }
   ],
   "source": [
    "#or we can use special print formatting like this:\n",
    "numerica_value =12\n",
    "print (\"Add some numeric value to me %s\" % numerica_value)"
   ]
  },
  {
   "cell_type": "code",
   "execution_count": 38,
   "metadata": {},
   "outputs": [
    {
     "name": "stdout",
     "output_type": "stream",
     "text": [
      "s\n"
     ]
    }
   ],
   "source": [
    "#Now It's to time discuss about String Indexing\n",
    "#In python each characte of the string contains an index value which starts from 0\n",
    "#So by the using the index number we can fetch the any value of the string which comes under the index value of \n",
    "#that particular string\n",
    "\n",
    "x ='string'\n",
    "#Let's fetch the first value of this string\n",
    "print(x[0])\n"
   ]
  },
  {
   "cell_type": "code",
   "execution_count": 39,
   "metadata": {},
   "outputs": [
    {
     "name": "stdout",
     "output_type": "stream",
     "text": [
      "st\n"
     ]
    }
   ],
   "source": [
    "x ='string'\n",
    "#Let's fetch the first two value of this string\n",
    "print(x[:2])"
   ]
  },
  {
   "cell_type": "code",
   "execution_count": 42,
   "metadata": {},
   "outputs": [
    {
     "name": "stdout",
     "output_type": "stream",
     "text": [
      "ng\n"
     ]
    }
   ],
   "source": [
    "x ='string'\n",
    "#Let's fetch the last two value of this string\n",
    "print(x[-2:])"
   ]
  },
  {
   "cell_type": "code",
   "execution_count": 48,
   "metadata": {},
   "outputs": [
    {
     "name": "stdout",
     "output_type": "stream",
     "text": [
      "ring\n"
     ]
    }
   ],
   "source": [
    "x ='string'\n",
    "#Let's fetch the any specific value of this string it is called string slicing \n",
    "print(x[2:6])"
   ]
  },
  {
   "cell_type": "code",
   "execution_count": 49,
   "metadata": {},
   "outputs": [
    {
     "name": "stdout",
     "output_type": "stream",
     "text": [
      "string\n"
     ]
    }
   ],
   "source": [
    "#When we want to fetch the whole string then we can use :\n",
    "x ='string'\n",
    "print(x[:])"
   ]
  },
  {
   "cell_type": "code",
   "execution_count": 50,
   "metadata": {},
   "outputs": [
    {
     "name": "stdout",
     "output_type": "stream",
     "text": [
      "si\n"
     ]
    }
   ],
   "source": [
    "#When you want to fetch the string which start from a particular index and can give the character second character \n",
    "#from the first position of the string untill string's  index maximum value\n",
    "\n",
    "#for example\n",
    "\n",
    "string = 'string'\n",
    "print(string[0:len(string):3])\n",
    "\n",
    "#So here we are trying to fetch the value of string which will start from 0 index and will continue till the length of string \n",
    "#each third value from start value from last vale"
   ]
  },
  {
   "cell_type": "code",
   "execution_count": 52,
   "metadata": {},
   "outputs": [
    {
     "name": "stdout",
     "output_type": "stream",
     "text": [
      "sr\n"
     ]
    }
   ],
   "source": [
    "string = 'string'\n",
    "print(string[0:len(string)-2:2])"
   ]
  },
  {
   "cell_type": "code",
   "execution_count": 53,
   "metadata": {},
   "outputs": [
    {
     "name": "stdout",
     "output_type": "stream",
     "text": [
      "srn\n"
     ]
    }
   ],
   "source": [
    "string = 'string'\n",
    "print(string[0:len(string):2])"
   ]
  },
  {
   "cell_type": "code",
   "execution_count": 46,
   "metadata": {},
   "outputs": [
    {
     "name": "stdout",
     "output_type": "stream",
     "text": [
      "6\n"
     ]
    }
   ],
   "source": [
    "x ='string'\n",
    "print(len(x))"
   ]
  },
  {
   "cell_type": "code",
   "execution_count": 47,
   "metadata": {},
   "outputs": [
    {
     "ename": "IndexError",
     "evalue": "string index out of range",
     "output_type": "error",
     "traceback": [
      "\u001b[1;31m---------------------------------------------------------------------------\u001b[0m",
      "\u001b[1;31mIndexError\u001b[0m                                Traceback (most recent call last)",
      "\u001b[1;32m<ipython-input-47-8cce9a9fb41f>\u001b[0m in \u001b[0;36m<module>\u001b[1;34m()\u001b[0m\n\u001b[0;32m      4\u001b[0m \u001b[1;33m\u001b[0m\u001b[0m\n\u001b[0;32m      5\u001b[0m \u001b[0mx\u001b[0m \u001b[1;33m=\u001b[0m\u001b[1;34m'string'\u001b[0m\u001b[1;33m\u001b[0m\u001b[0m\n\u001b[1;32m----> 6\u001b[1;33m \u001b[0mprint\u001b[0m\u001b[1;33m(\u001b[0m\u001b[0mx\u001b[0m\u001b[1;33m[\u001b[0m\u001b[1;36m6\u001b[0m\u001b[1;33m]\u001b[0m\u001b[1;33m)\u001b[0m\u001b[1;33m\u001b[0m\u001b[0m\n\u001b[0m",
      "\u001b[1;31mIndexError\u001b[0m: string index out of range"
     ]
    }
   ],
   "source": [
    "# As we can for the above string the length is 6 so it's index value will start from 0 to 5\n",
    "#so we can put more than 5 to fetch for this string otherwise we will get an error\n",
    "#Let's see\n",
    "\n",
    "x ='string'\n",
    "print(x[6])"
   ]
  },
  {
   "cell_type": "code",
   "execution_count": null,
   "metadata": {},
   "outputs": [],
   "source": []
  }
 ],
 "metadata": {
  "kernelspec": {
   "display_name": "Python 3",
   "language": "python",
   "name": "python3"
  },
  "language_info": {
   "codemirror_mode": {
    "name": "ipython",
    "version": 3
   },
   "file_extension": ".py",
   "mimetype": "text/x-python",
   "name": "python",
   "nbconvert_exporter": "python",
   "pygments_lexer": "ipython3",
   "version": "3.5.0"
  }
 },
 "nbformat": 4,
 "nbformat_minor": 2
}
